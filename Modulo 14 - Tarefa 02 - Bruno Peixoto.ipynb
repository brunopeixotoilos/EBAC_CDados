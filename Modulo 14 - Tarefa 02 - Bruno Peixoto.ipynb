{
 "cells": [
  {
   "cell_type": "markdown",
   "metadata": {},
   "source": [
    "# Tarefa 02\n",
    "- Gerar análises com a base de dados de acordo com a abreviação do mês selecionado no prompt"
   ]
  },
  {
   "cell_type": "code",
   "execution_count": 1,
   "metadata": {
    "ExecuteTime": {
     "end_time": "2021-06-06T21:12:37.298706Z",
     "start_time": "2021-06-06T21:12:36.656481Z"
    },
    "scrolled": false
   },
   "outputs": [
    {
     "name": "stdout",
     "output_type": "stream",
     "text": [
      "Abreviação de mês inválida: --f=c:\\Users\\BrunodaCunhaPeixoto\\AppData\\Roaming\\jupyter\\runtime\\kernel-v2-19449La33Z0N5XOf.json\n"
     ]
    }
   ],
   "source": [
    "import pandas as pd\n",
    "import matplotlib.pyplot as plt\n",
    "import os\n",
    "import sys\n",
    "\n",
    "def plota_pivot_table(df, value, index, func, ylabel, xlabel, opcao='nada'):\n",
    "    if opcao == 'nada':\n",
    "        pd.pivot_table(df, values=value, index=index,\n",
    "                       aggfunc=func).plot(figsize=[15, 5])\n",
    "    elif opcao == 'sort':\n",
    "        pd.pivot_table(df, values=value, index=index,\n",
    "                       aggfunc=func).sort_values(value).plot(figsize=[15, 5])\n",
    "    elif opcao == 'unstack':\n",
    "        pd.pivot_table(df, values=value, index=index,\n",
    "                       aggfunc=func).unstack().plot(figsize=[15, 5])\n",
    "    plt.ylabel(ylabel)\n",
    "    plt.xlabel(xlabel)\n",
    "    return None\n",
    "\n",
    "def get_month_number(month_abbr):\n",
    "    month_numbers = {\n",
    "        'JAN': 1, 'FEV': 2, 'MAR': 3, 'ABR': 4,\n",
    "        'MAI': 5, 'JUN': 6, 'JUL': 7, 'AGO': 8,\n",
    "        'SET': 9, 'OUT': 10, 'NOV': 11, 'DEZ': 12\n",
    "    }\n",
    "    return month_numbers.get(month_abbr.upper(), None)\n",
    "\n",
    "# Carregar a base de dados completa\n",
    "sinasc = pd.read_csv('./input/SINASC_RO_2019.csv')\n",
    "\n",
    "# Adicionar coluna MESNASC\n",
    "sinasc['MESNASC'] = pd.to_datetime(sinasc['DTNASC']).dt.month\n",
    "\n",
    "# Capturar os argumentos da linha de comando\n",
    "meses_abreviados = sys.argv[1:]\n",
    "\n",
    "# Loop para gerar análises para cada mês especificado\n",
    "for mes_abbr in meses_abreviados:\n",
    "    mesnasc = get_month_number(mes_abbr)\n",
    "    if mesnasc is None:\n",
    "        print(f\"Abreviação de mês inválida: {mes_abbr}\")\n",
    "        continue\n",
    "\n",
    "    # Filtrar os dados para o mês especificado\n",
    "    sinasc_mes = sinasc[sinasc['MESNASC'] == mesnasc]\n",
    "\n",
    "    # Obter a data máxima para o diretório de saída\n",
    "    max_data = sinasc_mes['DTNASC'].max()[:7]\n",
    "    os.makedirs(f'./output/figs/{max_data}', exist_ok=True)\n",
    "\n",
    "    plota_pivot_table(sinasc_mes, 'IDADEMAE', 'DTNASC', 'count', 'quantidade de nascimento', 'data de nascimento')\n",
    "    plt.savefig(f'./output/figs/{max_data}/quantidade de nascimento_{mes_abbr}.png')\n",
    "\n",
    "    plota_pivot_table(sinasc_mes, 'IDADEMAE', ['DTNASC', 'SEXO'], 'mean', 'media idade mae', 'data de nascimento', 'unstack')\n",
    "    plt.savefig(f'./output/figs/{max_data}/media idade mae por sexo_{mes_abbr}.png')\n",
    "\n",
    "    plota_pivot_table(sinasc_mes, 'PESO', ['DTNASC', 'SEXO'], 'mean', 'media peso bebe', 'data de nascimento', 'unstack')\n",
    "    plt.savefig(f'./output/figs/{max_data}/media peso bebe por sexo_{mes_abbr}.png')\n",
    "\n",
    "    plota_pivot_table(sinasc_mes, 'PESO', 'ESCMAE', 'median', 'peso medio', 'escolaridade mae', 'sort')\n",
    "    plt.savefig(f'./output/figs/{max_data}/media peso por escolaridade mae_{mes_abbr}.png')\n",
    "\n",
    "    plota_pivot_table(sinasc_mes, 'APGAR1', 'GESTACAO', 'mean', 'apgar1 medio', 'gestacao', 'sort')\n",
    "    plt.savefig(f'./output/figs/{max_data}/media apgar1 por gestacao_{mes_abbr}.png')\n",
    "\n",
    "    plota_pivot_table(sinasc_mes, 'APGAR5', 'GESTACAO', 'mean', 'apgar5 medio', 'gestacao', 'sort')\n",
    "    plt.savefig(f'./output/figs/{max_data}/media apgar5 por gestacao_{mes_abbr}.png')\n",
    "\n",
    "    print(f\"Gráficos para o mês {mes_abbr} foram gerados na pasta {max_data}.\")"
   ]
  }
 ],
 "metadata": {
  "kernelspec": {
   "display_name": "Python 3",
   "language": "python",
   "name": "python3"
  },
  "language_info": {
   "codemirror_mode": {
    "name": "ipython",
    "version": 3
   },
   "file_extension": ".py",
   "mimetype": "text/x-python",
   "name": "python",
   "nbconvert_exporter": "python",
   "pygments_lexer": "ipython3",
   "version": "3.9.12"
  },
  "varInspector": {
   "cols": {
    "lenName": 16,
    "lenType": 16,
    "lenVar": 40
   },
   "kernels_config": {
    "python": {
     "delete_cmd_postfix": "",
     "delete_cmd_prefix": "del ",
     "library": "var_list.py",
     "varRefreshCmd": "print(var_dic_list())"
    },
    "r": {
     "delete_cmd_postfix": ") ",
     "delete_cmd_prefix": "rm(",
     "library": "var_list.r",
     "varRefreshCmd": "cat(var_dic_list()) "
    }
   },
   "types_to_exclude": [
    "module",
    "function",
    "builtin_function_or_method",
    "instance",
    "_Feature"
   ],
   "window_display": false
  }
 },
 "nbformat": 4,
 "nbformat_minor": 4
}
