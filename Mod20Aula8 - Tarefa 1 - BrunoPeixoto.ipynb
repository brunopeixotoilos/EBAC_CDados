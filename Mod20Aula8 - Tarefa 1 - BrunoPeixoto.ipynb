{
  "cells": [
    {
      "cell_type": "markdown",
      "metadata": {
        "id": "K4wVaMrB0Pix"
      },
      "source": [
        "# Tarefa 1\n",
        "\n",
        "Escreva o texto abaixo que se encontra no [link](https://www.educamaisbrasil.com.br/enem/matematica/formula-de-bhaskara) usando markdown e LaTeX"
      ]
    },
    {
      "cell_type": "markdown",
      "metadata": {},
      "source": [
        "# Fórmula de Bhaskara <div font-weight:bold>\n",
        "\n",
        "A solução para uma função de segundo grau depende das suas raízes (valores de x). Como já vimos, os coeficientes precisam ser números reais e o angular diferente de zero. Sendo assim, temos a seguinte fórmula de Bhaskara:\n",
        "\n",
        "<div align=\"center\">\n",
        "\n",
        "$$x = \\frac{-b \\pm \\sqrt{b^2 - 4ac}}{2a}$$\n",
        "\n",
        "</div>\n",
        "\n",
        "<div align=\"center\" font-size= '18px'>\n",
        "\n",
        "*Fórmula de Bhaskara.*\n",
        "</div>\n",
        "\n",
        "Para melhor compreensão, o seu cálculo é dividido em duas partes: **discriminante** da equação e operações para determinar as raízes.\n",
        "\n",
        "\n",
        "### Discriminante\n",
        "\n",
        "A figura dentro da raiz na fórmula de Bhaskara é nomeada de **discriminante**. Seu símbolo é a letra grega delta, e apresenta a seguinte fórmula:\n",
        "\n",
        "<div align=\"center\">\n",
        "\n",
        "$$\\Delta = b^2 - 4ac$$\n",
        "\n",
        "*Fórmula do discriminante.*\n",
        "</div>\n",
        "\n",
        "\n",
        "- **Se** o delta for **maior que zero**, a equação terá dois valores reais e distintos.  \n",
        "- **Se** o delta for **igual a zero**, a equação terá somente um valor real ou dois resultados iguais.  \n",
        "- **Se** o delta for **menor que zero**, a equação não possuirá valores reais.\n",
        "\n"
      ]
    }
  ],
  "metadata": {
    "colab": {
      "provenance": []
    },
    "kernelspec": {
      "display_name": "Python 3",
      "language": "python",
      "name": "python3"
    },
    "language_info": {
      "codemirror_mode": {
        "name": "ipython",
        "version": 3
      },
      "file_extension": ".py",
      "mimetype": "text/x-python",
      "name": "python",
      "nbconvert_exporter": "python",
      "pygments_lexer": "ipython3",
      "version": "3.8.5"
    },
    "varInspector": {
      "cols": {
        "lenName": 16,
        "lenType": 16,
        "lenVar": 40
      },
      "kernels_config": {
        "python": {
          "delete_cmd_postfix": "",
          "delete_cmd_prefix": "del ",
          "library": "var_list.py",
          "varRefreshCmd": "print(var_dic_list())"
        },
        "r": {
          "delete_cmd_postfix": ") ",
          "delete_cmd_prefix": "rm(",
          "library": "var_list.r",
          "varRefreshCmd": "cat(var_dic_list()) "
        }
      },
      "types_to_exclude": [
        "module",
        "function",
        "builtin_function_or_method",
        "instance",
        "_Feature"
      ],
      "window_display": false
    }
  },
  "nbformat": 4,
  "nbformat_minor": 0
}
