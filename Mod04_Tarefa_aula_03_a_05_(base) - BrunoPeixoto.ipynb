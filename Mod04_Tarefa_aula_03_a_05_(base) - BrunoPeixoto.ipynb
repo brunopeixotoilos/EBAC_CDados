{
 "cells": [
  {
   "cell_type": "markdown",
   "metadata": {
    "id": "njUvbhQmC8-t"
   },
   "source": [
    "## Exercício 1: Vestibular\n",
    "\n",
    "Considere que a os dados gerados na célula abaixo contêm o número de acertos de 100 alunos em um vestibular para um curso de exatas, divididas pelos respectivos assuntos. Considere que cada assunto possui um número de questões conforme a tabela abaixo:\n",
    "\n",
    "| assunto | número de questões |\n",
    "|:---:|:---:|\n",
    "| Matemática | 24 |\n",
    "| Português | 18 |\n",
    "| Geografia | 8 |\n",
    "| Inglês | 8 |\n",
    "| História | 8 |\n",
    "| Física | 12 |\n",
    "| Química | 12 |\n",
    "\n",
    "Usando os comandos de operações com DataFrames que você aprendeu na Aula 03, calcule:\n",
    "\n",
    "1. (operações com escalar) Calcule o percentual de acerto dos alunos por assunto.  \n",
    "2. (operações entre *DataFrames) Calcule o total de acertos de cada aluno.  \n",
    "3. Calcule o porcentual geral de cada aluno.  \n",
    "4. Suponha que a nota de corte para a segunda fase seja 45. Quantos alunos tiveram nota maior que 45?  "
   ]
  },
  {
   "cell_type": "code",
   "execution_count": 1,
   "metadata": {
    "id": "Ll6TadxCC8-y"
   },
   "outputs": [],
   "source": [
    "import pandas as pd\n",
    "import numpy as np\n",
    "\n",
    "np.random.seed(42)\n",
    "df_mat = pd.DataFrame(np.random.randint(24, size=(100, 1)), columns=['Qt_acertos'])\n",
    "\n",
    "df_por = pd.DataFrame(np.random.randint(18, size=(100, 1)), columns=['Qt_acertos'])\n",
    "\n",
    "df_geo = pd.DataFrame(np.random.randint(8, size=(100, 1)), columns=['Qt_acertos'])\n",
    "\n",
    "df_ing = pd.DataFrame(np.random.randint(8, size=(100, 1)), columns=['Qt_acertos'])\n",
    "\n",
    "df_his = pd.DataFrame(np.random.randint(8, size=(100, 1)), columns=['Qt_acertos'])\n",
    "\n",
    "df_fis = pd.DataFrame(np.random.randint(12, size=(100, 1)), columns=['Qt_acertos'])\n",
    "\n",
    "df_qui = pd.DataFrame(np.random.randint(12, size=(100, 1)), columns=['Qt_acertos'])"
   ]
  },
  {
   "cell_type": "code",
   "execution_count": 2,
   "metadata": {
    "id": "JVmLXiC2C8-0"
   },
   "outputs": [
    {
     "data": {
      "text/html": [
       "<div>\n",
       "<style scoped>\n",
       "    .dataframe tbody tr th:only-of-type {\n",
       "        vertical-align: middle;\n",
       "    }\n",
       "\n",
       "    .dataframe tbody tr th {\n",
       "        vertical-align: top;\n",
       "    }\n",
       "\n",
       "    .dataframe thead th {\n",
       "        text-align: right;\n",
       "    }\n",
       "</style>\n",
       "<table border=\"1\" class=\"dataframe\">\n",
       "  <thead>\n",
       "    <tr style=\"text-align: right;\">\n",
       "      <th></th>\n",
       "      <th>assunto</th>\n",
       "      <th>número de questões</th>\n",
       "    </tr>\n",
       "  </thead>\n",
       "  <tbody>\n",
       "    <tr>\n",
       "      <th>0</th>\n",
       "      <td>Matemática</td>\n",
       "      <td>24</td>\n",
       "    </tr>\n",
       "    <tr>\n",
       "      <th>1</th>\n",
       "      <td>Português</td>\n",
       "      <td>18</td>\n",
       "    </tr>\n",
       "    <tr>\n",
       "      <th>2</th>\n",
       "      <td>Geografia</td>\n",
       "      <td>8</td>\n",
       "    </tr>\n",
       "    <tr>\n",
       "      <th>3</th>\n",
       "      <td>Inglês</td>\n",
       "      <td>8</td>\n",
       "    </tr>\n",
       "    <tr>\n",
       "      <th>4</th>\n",
       "      <td>História</td>\n",
       "      <td>8</td>\n",
       "    </tr>\n",
       "    <tr>\n",
       "      <th>5</th>\n",
       "      <td>Física</td>\n",
       "      <td>12</td>\n",
       "    </tr>\n",
       "    <tr>\n",
       "      <th>6</th>\n",
       "      <td>Química</td>\n",
       "      <td>12</td>\n",
       "    </tr>\n",
       "  </tbody>\n",
       "</table>\n",
       "</div>"
      ],
      "text/plain": [
       "      assunto  número de questões\n",
       "0  Matemática                  24\n",
       "1   Português                  18\n",
       "2   Geografia                   8\n",
       "3      Inglês                   8\n",
       "4    História                   8\n",
       "5      Física                  12\n",
       "6     Química                  12"
      ]
     },
     "execution_count": 2,
     "metadata": {},
     "output_type": "execute_result"
    }
   ],
   "source": [
    "df_questoes = pd.DataFrame({\n",
    "    \"assunto\":[\"Matemática\",\"Português\",\"Geografia\",\"Inglês\",\"História\",\"Física\",\"Química\"],\n",
    "    \"número de questões\":[24,18,8,8,8,12,12]\n",
    "    }\n",
    ")\n",
    "\n",
    "df_questoes"
   ]
  },
  {
   "cell_type": "code",
   "execution_count": 3,
   "metadata": {},
   "outputs": [],
   "source": [
    "# 1) Seu código aqui\n",
    "df_mat[\"perc_acerto\"] = df_mat[\"Qt_acertos\"]/24\n",
    "\n",
    "df_por[\"perc_acerto\"] = df_por[\"Qt_acertos\"]/18\n",
    "\n",
    "df_geo[\"perc_acerto\"] = df_geo[\"Qt_acertos\"]/8\n",
    "\n",
    "df_ing[\"perc_acerto\"] = df_ing[\"Qt_acertos\"]/8\n",
    "\n",
    "df_his[\"perc_acerto\"] = df_his[\"Qt_acertos\"]/8\n",
    "\n",
    "df_fis[\"perc_acerto\"] = df_fis[\"Qt_acertos\"]/12\n",
    "\n",
    "df_qui[\"perc_acerto\"] = df_qui[\"Qt_acertos\"]/24"
   ]
  },
  {
   "cell_type": "code",
   "execution_count": 4,
   "metadata": {
    "id": "JbTwCyNHC8-1"
   },
   "outputs": [
    {
     "data": {
      "text/html": [
       "<div>\n",
       "<style scoped>\n",
       "    .dataframe tbody tr th:only-of-type {\n",
       "        vertical-align: middle;\n",
       "    }\n",
       "\n",
       "    .dataframe tbody tr th {\n",
       "        vertical-align: top;\n",
       "    }\n",
       "\n",
       "    .dataframe thead th {\n",
       "        text-align: right;\n",
       "    }\n",
       "</style>\n",
       "<table border=\"1\" class=\"dataframe\">\n",
       "  <thead>\n",
       "    <tr style=\"text-align: right;\">\n",
       "      <th></th>\n",
       "      <th>Qt_acertos_Total</th>\n",
       "    </tr>\n",
       "  </thead>\n",
       "  <tbody>\n",
       "    <tr>\n",
       "      <th>0</th>\n",
       "      <td>34</td>\n",
       "    </tr>\n",
       "    <tr>\n",
       "      <th>1</th>\n",
       "      <td>48</td>\n",
       "    </tr>\n",
       "    <tr>\n",
       "      <th>2</th>\n",
       "      <td>43</td>\n",
       "    </tr>\n",
       "    <tr>\n",
       "      <th>3</th>\n",
       "      <td>32</td>\n",
       "    </tr>\n",
       "    <tr>\n",
       "      <th>4</th>\n",
       "      <td>30</td>\n",
       "    </tr>\n",
       "    <tr>\n",
       "      <th>...</th>\n",
       "      <td>...</td>\n",
       "    </tr>\n",
       "    <tr>\n",
       "      <th>95</th>\n",
       "      <td>30</td>\n",
       "    </tr>\n",
       "    <tr>\n",
       "      <th>96</th>\n",
       "      <td>26</td>\n",
       "    </tr>\n",
       "    <tr>\n",
       "      <th>97</th>\n",
       "      <td>36</td>\n",
       "    </tr>\n",
       "    <tr>\n",
       "      <th>98</th>\n",
       "      <td>35</td>\n",
       "    </tr>\n",
       "    <tr>\n",
       "      <th>99</th>\n",
       "      <td>36</td>\n",
       "    </tr>\n",
       "  </tbody>\n",
       "</table>\n",
       "<p>100 rows × 1 columns</p>\n",
       "</div>"
      ],
      "text/plain": [
       "    Qt_acertos_Total\n",
       "0                 34\n",
       "1                 48\n",
       "2                 43\n",
       "3                 32\n",
       "4                 30\n",
       "..               ...\n",
       "95                30\n",
       "96                26\n",
       "97                36\n",
       "98                35\n",
       "99                36\n",
       "\n",
       "[100 rows x 1 columns]"
      ]
     },
     "execution_count": 4,
     "metadata": {},
     "output_type": "execute_result"
    }
   ],
   "source": [
    "# 2) Seu código aqui\n",
    "\n",
    "df_resultado=pd.DataFrame()\n",
    "\n",
    "df_resultado[\"Qt_acertos_Total\"] = df_mat[\"Qt_acertos\"] + df_por[\"Qt_acertos\"] + df_geo[\"Qt_acertos\"] + df_ing[\"Qt_acertos\"] + df_fis[\"Qt_acertos\"] + df_qui[\"Qt_acertos\"]\n",
    "    \n",
    "df_resultado"
   ]
  },
  {
   "cell_type": "code",
   "execution_count": 5,
   "metadata": {
    "id": "c2L8dJkVC8-3"
   },
   "outputs": [
    {
     "name": "stdout",
     "output_type": "stream",
     "text": [
      "90\n"
     ]
    },
    {
     "data": {
      "text/html": [
       "<div>\n",
       "<style scoped>\n",
       "    .dataframe tbody tr th:only-of-type {\n",
       "        vertical-align: middle;\n",
       "    }\n",
       "\n",
       "    .dataframe tbody tr th {\n",
       "        vertical-align: top;\n",
       "    }\n",
       "\n",
       "    .dataframe thead th {\n",
       "        text-align: right;\n",
       "    }\n",
       "</style>\n",
       "<table border=\"1\" class=\"dataframe\">\n",
       "  <thead>\n",
       "    <tr style=\"text-align: right;\">\n",
       "      <th></th>\n",
       "      <th>Qt_acertos_Total</th>\n",
       "      <th>perc_acerto_total</th>\n",
       "    </tr>\n",
       "  </thead>\n",
       "  <tbody>\n",
       "    <tr>\n",
       "      <th>0</th>\n",
       "      <td>34</td>\n",
       "      <td>0.377778</td>\n",
       "    </tr>\n",
       "    <tr>\n",
       "      <th>1</th>\n",
       "      <td>48</td>\n",
       "      <td>0.533333</td>\n",
       "    </tr>\n",
       "    <tr>\n",
       "      <th>2</th>\n",
       "      <td>43</td>\n",
       "      <td>0.477778</td>\n",
       "    </tr>\n",
       "    <tr>\n",
       "      <th>3</th>\n",
       "      <td>32</td>\n",
       "      <td>0.355556</td>\n",
       "    </tr>\n",
       "    <tr>\n",
       "      <th>4</th>\n",
       "      <td>30</td>\n",
       "      <td>0.333333</td>\n",
       "    </tr>\n",
       "    <tr>\n",
       "      <th>...</th>\n",
       "      <td>...</td>\n",
       "      <td>...</td>\n",
       "    </tr>\n",
       "    <tr>\n",
       "      <th>95</th>\n",
       "      <td>30</td>\n",
       "      <td>0.333333</td>\n",
       "    </tr>\n",
       "    <tr>\n",
       "      <th>96</th>\n",
       "      <td>26</td>\n",
       "      <td>0.288889</td>\n",
       "    </tr>\n",
       "    <tr>\n",
       "      <th>97</th>\n",
       "      <td>36</td>\n",
       "      <td>0.400000</td>\n",
       "    </tr>\n",
       "    <tr>\n",
       "      <th>98</th>\n",
       "      <td>35</td>\n",
       "      <td>0.388889</td>\n",
       "    </tr>\n",
       "    <tr>\n",
       "      <th>99</th>\n",
       "      <td>36</td>\n",
       "      <td>0.400000</td>\n",
       "    </tr>\n",
       "  </tbody>\n",
       "</table>\n",
       "<p>100 rows × 2 columns</p>\n",
       "</div>"
      ],
      "text/plain": [
       "    Qt_acertos_Total  perc_acerto_total\n",
       "0                 34           0.377778\n",
       "1                 48           0.533333\n",
       "2                 43           0.477778\n",
       "3                 32           0.355556\n",
       "4                 30           0.333333\n",
       "..               ...                ...\n",
       "95                30           0.333333\n",
       "96                26           0.288889\n",
       "97                36           0.400000\n",
       "98                35           0.388889\n",
       "99                36           0.400000\n",
       "\n",
       "[100 rows x 2 columns]"
      ]
     },
     "execution_count": 5,
     "metadata": {},
     "output_type": "execute_result"
    }
   ],
   "source": [
    "# 3) Seu código aqui\n",
    "\n",
    "total_questoes = df_questoes['número de questões'].sum()\n",
    "\n",
    "print(total_questoes)\n",
    "\n",
    "df_resultado[\"perc_acerto_total\"] = df_resultado[\"Qt_acertos_Total\"]/total_questoes\n",
    "\n",
    "df_resultado\n"
   ]
  },
  {
   "cell_type": "code",
   "execution_count": 6,
   "metadata": {
    "id": "PZTZ7DFzC8-3"
   },
   "outputs": [
    {
     "data": {
      "text/plain": [
       "19"
      ]
     },
     "execution_count": 6,
     "metadata": {},
     "output_type": "execute_result"
    }
   ],
   "source": [
    "# 4) Seu código aqui\n",
    "\n",
    "(df_resultado[\"Qt_acertos_Total\"]>45).sum()\n"
   ]
  },
  {
   "cell_type": "markdown",
   "metadata": {
    "id": "Hlfl75XXC8-4"
   },
   "source": [
    "## 2) Vestibular II\n",
    "\n",
    "Ainda sobre o mesmo banco de dados:\n",
    "\n",
    "1. Neste vestibular, quem 'zera' em matemática, física ou química está desqualificado. Monte um novo *DataFrame* com os alunos desqualificados por este critério.\n",
    "2. Quantos são esses alunos?\n",
    "3. Qual a média desses alunos em história e geografia?\n",
    "4. Monte um *DataFrame* com os alunos que passaram para a segunda fase. Repare que estes alunos não podem ter sido desqualificados."
   ]
  },
  {
   "cell_type": "code",
   "execution_count": 7,
   "metadata": {
    "id": "hPaMGXvJC8-4"
   },
   "outputs": [
    {
     "name": "stdout",
     "output_type": "stream",
     "text": [
      "Número de reprovados: 24\n",
      "A media de percentual de acerto em historia dos alunos reprovados é de: 0.45\n",
      "A media de percentual de acerto em geografia dos alunos reprovados é de: 0.42\n",
      "    Qt_acertos_Total  perc_acerto_total\n",
      "1                 48           0.533333\n",
      "5                 48           0.533333\n",
      "8                 52           0.577778\n",
      "17                48           0.533333\n",
      "18                47           0.522222\n",
      "24                47           0.522222\n",
      "31                51           0.566667\n",
      "36                55           0.611111\n",
      "37                51           0.566667\n",
      "42                46           0.511111\n",
      "48                50           0.555556\n",
      "70                57           0.633333\n",
      "71                49           0.544444\n",
      "77                47           0.522222\n",
      "78                59           0.655556\n",
      "81                51           0.566667\n",
      "93                50           0.555556\n"
     ]
    }
   ],
   "source": [
    "# seu código aqui\n",
    "\n",
    "#1\n",
    "\n",
    "df_reprovados=pd.DataFrame()\n",
    "\n",
    "df_reprovados = pd.concat([df_mat[df_mat['Qt_acertos'] == 0], df_qui[df_qui['Qt_acertos'] == 0], df_fis[df_fis['Qt_acertos'] == 0]])\n",
    "\n",
    "#print(df_reprovados)\n",
    "\n",
    "#2\n",
    "numero_de_reprovados = df_reprovados.shape[0]\n",
    "\n",
    "print(\"Número de reprovados:\", numero_de_reprovados)\n",
    "\n",
    "#3\n",
    "df_reprovados_geo = pd.merge(df_reprovados, df_geo, left_index=True, right_index=True)\n",
    "df_reprovados_geo = df_reprovados_geo.rename(columns={\n",
    "    'Qt_acertos_x': 'acertos_mat_fis_qui',\n",
    "    'perc_acerto_x': 'perc_acerto_mat_fis_qui',\n",
    "    'Qt_acertos_y': 'acertos_geo',\n",
    "    'perc_acerto_y': 'perc_acerto_geo'\n",
    "})\n",
    "\n",
    "#print(df_reprovados_geo)\n",
    "\n",
    "df_reprovados_geo_his = pd.merge(df_reprovados_geo, df_his, left_index=True, right_index=True)\n",
    "df_reprovados_geo_his = df_reprovados_geo_his.rename(columns={\n",
    "    'Qt_acertos': 'acertos_his',\n",
    "    'perc_acerto': 'perc_acerto_his'\n",
    "})\n",
    "#print(df_reprovados_geo_his)\n",
    "\n",
    "media_his = df_reprovados_geo_his[\"perc_acerto_his\"].mean()\n",
    "media_geo = df_reprovados_geo_his[\"perc_acerto_geo\"].mean()\n",
    "\n",
    "print(f\"A media de percentual de acerto em historia dos alunos reprovados é de: {round(media_his,2)}\")\n",
    "print(f\"A media de percentual de acerto em geografia dos alunos reprovados é de: {round(media_geo,2)}\")\n",
    "\n",
    "#4\n",
    "df_aprovados = pd.DataFrame()\n",
    "\n",
    "df_aprovados = df_resultado.loc[df_resultado.index.difference(df_reprovados.index)]\n",
    "df_aprovados = df_aprovados[df_aprovados['Qt_acertos_Total'] > 45]\n",
    "\n",
    "# Exibir o DataFrame com os alunos que passaram para a segunda fase\n",
    "print(df_aprovados)"
   ]
  },
  {
   "cell_type": "code",
   "execution_count": null,
   "metadata": {},
   "outputs": [],
   "source": []
  },
  {
   "cell_type": "markdown",
   "metadata": {
    "id": "EGBUWpAHC8-5"
   },
   "source": [
    "## 3) Vacinações no Acre\n",
    "Vamos trabalhar agora com a base de vacinações no Acre. Para facilitar a sua vida, copiamos o link do arquivo na célula abaixo.\n",
    "\n",
    "1. Quantas vacinas estão registradas nessa base?  \n",
    "2. Quantos pacientes foram vacinados? (considere um paciente para cada valor único de ```paciente_id```)  \n",
    "3. Quantos pacientes únicos tomaram a primeira dose? OBS: Há um caractere especial neste campo. Receba os valores do campo com o método ```.unique()```.   \n",
    "4. Quantos pacientes com menos de 18 anos foram vacinados?  \n",
    "5. Quantos estabelecimentos aplicaram vacina no Acre?\n",
    "\n",
    "\n",
    "**OBS:** O portal do DATASUS pode apresentar instabilidades, retornando um erro na segunda célula abaixo. Por este motivo está disponível uma base estática, que se for baixada para o seu *working directory* pode ser lida com este comando: ```df = pd.read_csv('registros de vacinacao covid ACRE.csv', sep=';')```.\n",
    "\n",
    "**OBS2:** Para saber qual é o seu working directory, rode no jupyter: ```!pwd```."
   ]
  },
  {
   "cell_type": "code",
   "execution_count": 8,
   "metadata": {
    "id": "ET4r139hC8-5"
   },
   "outputs": [],
   "source": [
    "arquivo = 'https://s3-sa-east-1.amazonaws.com/ckan.saude.gov.br/PNI/vacina/uf/2021-05-23/uf%3DAC/part-00000-63e5bee2-3684-4286-b709-7fe85483b04e.c000.csv'"
   ]
  },
  {
   "cell_type": "code",
   "execution_count": 79,
   "metadata": {
    "id": "SC9YMWLSC8-6"
   },
   "outputs": [
    {
     "name": "stderr",
     "output_type": "stream",
     "text": [
      "C:\\Users\\BrunodaCunhaPeixoto\\AppData\\Local\\Temp\\ipykernel_14628\\3765736043.py:3: DtypeWarning: Columns (7,8) have mixed types. Specify dtype option on import or set low_memory=False.\n",
      "  df_vacinacao = pd.read_csv('registros de vacinacao covid ACRE.csv', sep=';')\n"
     ]
    }
   ],
   "source": [
    "# 1) Sua solução aqui\n",
    "\n",
    "df_vacinacao = pd.read_csv('registros de vacinacao covid ACRE.csv', sep=';')\n",
    "\n",
    "df_vacinacao.head()\n",
    "\n",
    "df_vacinacao = df_vacinacao.rename(columns={'estalecimento_noFantasia': 'estabelecimento_noFantasia'})"
   ]
  },
  {
   "cell_type": "code",
   "execution_count": 80,
   "metadata": {},
   "outputs": [
    {
     "name": "stdout",
     "output_type": "stream",
     "text": [
      "Número de registros total: 384114\n"
     ]
    }
   ],
   "source": [
    "# 1)\n",
    "numero_de_registros = df_vacinacao.shape[0]\n",
    "\n",
    "print(\"Número de registros total:\", numero_de_registros)"
   ]
  },
  {
   "cell_type": "code",
   "execution_count": 81,
   "metadata": {
    "id": "PMztY1RlC8-7"
   },
   "outputs": [
    {
     "name": "stdout",
     "output_type": "stream",
     "text": [
      "Número de pacientes vacinados: 314459\n"
     ]
    }
   ],
   "source": [
    "# 2)\n",
    "pacientes_vacinados = df_vacinacao['paciente_id'].nunique()\n",
    "\n",
    "print(\"Número de pacientes vacinados:\", pacientes_vacinados)"
   ]
  },
  {
   "cell_type": "code",
   "execution_count": 82,
   "metadata": {
    "id": "V_wr--3JC8-7"
   },
   "outputs": [
    {
     "name": "stdout",
     "output_type": "stream",
     "text": [
      "Número de registros da 1ª Dose: 142932\n"
     ]
    }
   ],
   "source": [
    "# 3)\n",
    "tipos_vacinacao = df_vacinacao['vacina_descricao_dose'].unique()\n",
    "\n",
    "#print(tipos_vacinacao)\n",
    "\n",
    "contagem_primeira_dose = df_vacinacao['vacina_descricao_dose'].value_counts()['1ª Dose']\n",
    "\n",
    "print(f\"Número de registros da 1ª Dose: {contagem_primeira_dose}\")\n",
    "\n"
   ]
  },
  {
   "cell_type": "code",
   "execution_count": 83,
   "metadata": {
    "id": "SPHgIxtcC8-7"
   },
   "outputs": [],
   "source": [
    "# 3) solução alternativa\n"
   ]
  },
  {
   "cell_type": "code",
   "execution_count": 84,
   "metadata": {
    "id": "S6ab9ExEC8-7"
   },
   "outputs": [
    {
     "name": "stdout",
     "output_type": "stream",
     "text": [
      "Número de pacientes menores de 18 anos: 75450\n"
     ]
    }
   ],
   "source": [
    "# 4)\n",
    "df_menor_de_18_anos = df_vacinacao[df_vacinacao['paciente_idade'] < 18]\n",
    "\n",
    "contagem_menor_de_18_anos = len(df_menor_de_18_anos[df_menor_de_18_anos['paciente_idade'] < 18])\n",
    "\n",
    "print(f\"Número de pacientes menores de 18 anos: {contagem_menor_de_18_anos}\")"
   ]
  },
  {
   "cell_type": "code",
   "execution_count": 85,
   "metadata": {
    "id": "PVrY_-qlC8-8"
   },
   "outputs": [
    {
     "name": "stdout",
     "output_type": "stream",
     "text": [
      "Número de estabelecimentos: 219\n"
     ]
    }
   ],
   "source": [
    "# 5)\n",
    "contagem_estabelecimentos = len(df_vacinacao['estabelecimento_noFantasia'].unique())\n",
    "\n",
    "print(f\"Número de estabelecimentos: {contagem_estabelecimentos}\")"
   ]
  },
  {
   "cell_type": "markdown",
   "metadata": {
    "id": "LH1LSYvGC8-8"
   },
   "source": [
    "## 4) Vacinação II\n",
    "Gere um *DataFrame* que contenha somente os estabelecimentos que aplicaram vcinas a menores de 18 anos. Nesse *DataFrame* devem conter somente os dados dos estabelecimentos, mais uma coluna sendo a quantidade de vacinas que o estabelecimento aplicou a menores de 18 anos.  \n",
    "  \n",
    "1. crie uma cópia do *DataFrame* original, contendo somente os registros de vacinas realizadas a menores de 18 anos.  \n",
    "2. crie uma lista das colunas desse *DataFrame* com o atributo de *DataFrame* **.columns()**  \n",
    "3. Nesse *DataFrame* faça uma contagem do campo ```vacina_categoria_nome```.\n",
    "3. a partir da lista de colunas, escolha somente aquelas que são referentes ao estabelecimento, faça uma lista com esses valores.  \n",
    "4. usando o método *.loc*, selecione somente essas variáveis  \n",
    "5. Aplique o método **.drop_duplicates** e crie uma lista com uma linha para cada estabelecimento, com os dados do estabelecimento  "
   ]
  },
  {
   "cell_type": "code",
   "execution_count": 93,
   "metadata": {
    "id": "3ojs12vUC8-8"
   },
   "outputs": [
    {
     "data": {
      "text/html": [
       "<div>\n",
       "<style scoped>\n",
       "    .dataframe tbody tr th:only-of-type {\n",
       "        vertical-align: middle;\n",
       "    }\n",
       "\n",
       "    .dataframe tbody tr th {\n",
       "        vertical-align: top;\n",
       "    }\n",
       "\n",
       "    .dataframe thead th {\n",
       "        text-align: right;\n",
       "    }\n",
       "</style>\n",
       "<table border=\"1\" class=\"dataframe\">\n",
       "  <thead>\n",
       "    <tr style=\"text-align: right;\">\n",
       "      <th></th>\n",
       "      <th>document_id</th>\n",
       "      <th>paciente_id</th>\n",
       "      <th>paciente_idade</th>\n",
       "      <th>paciente_dataNascimento</th>\n",
       "      <th>paciente_enumSexoBiologico</th>\n",
       "      <th>paciente_racaCor_codigo</th>\n",
       "      <th>paciente_racaCor_valor</th>\n",
       "      <th>paciente_endereco_coIbgeMunicipio</th>\n",
       "      <th>paciente_endereco_coPais</th>\n",
       "      <th>paciente_endereco_nmMunicipio</th>\n",
       "      <th>...</th>\n",
       "      <th>vacina_categoria_codigo</th>\n",
       "      <th>vacina_categoria_nome</th>\n",
       "      <th>vacina_lote</th>\n",
       "      <th>vacina_fabricante_nome</th>\n",
       "      <th>vacina_fabricante_referencia</th>\n",
       "      <th>vacina_dataAplicacao</th>\n",
       "      <th>vacina_descricao_dose</th>\n",
       "      <th>vacina_codigo</th>\n",
       "      <th>vacina_nome</th>\n",
       "      <th>sistema_origem</th>\n",
       "    </tr>\n",
       "  </thead>\n",
       "  <tbody>\n",
       "    <tr>\n",
       "      <th>4</th>\n",
       "      <td>a6eaa2ad-b025-4fb2-8683-5aa237fc3d31-i0b0</td>\n",
       "      <td>7143f174f727be45c60eef078a80cf794e25209bb6f307...</td>\n",
       "      <td>9</td>\n",
       "      <td>2013-03-22</td>\n",
       "      <td>M</td>\n",
       "      <td>3</td>\n",
       "      <td>PARDA</td>\n",
       "      <td>120040.0</td>\n",
       "      <td>10.0</td>\n",
       "      <td>RIO BRANCO</td>\n",
       "      <td>...</td>\n",
       "      <td>NaN</td>\n",
       "      <td>NaN</td>\n",
       "      <td>FN5988</td>\n",
       "      <td>PFIZER - PEDI?TRICA</td>\n",
       "      <td>28290</td>\n",
       "      <td>2022-03-29</td>\n",
       "      <td>1ª Dose</td>\n",
       "      <td>99</td>\n",
       "      <td>COVID-19 PEDIÁTRICA - PFIZER COMIRNATY</td>\n",
       "      <td>Novo PNI</td>\n",
       "    </tr>\n",
       "    <tr>\n",
       "      <th>10</th>\n",
       "      <td>429bc350-1f02-4c24-af25-d09216991fe6-i0b0</td>\n",
       "      <td>ce4295b7c41c9a8e96d0adf020e4dbd4a48d824aa2be7f...</td>\n",
       "      <td>14</td>\n",
       "      <td>2007-02-05</td>\n",
       "      <td>M</td>\n",
       "      <td>4</td>\n",
       "      <td>AMARELA</td>\n",
       "      <td>120040.0</td>\n",
       "      <td>10.0</td>\n",
       "      <td>RIO BRANCO</td>\n",
       "      <td>...</td>\n",
       "      <td>2.0</td>\n",
       "      <td>Faixa Etária</td>\n",
       "      <td>FF8840</td>\n",
       "      <td>PFIZER</td>\n",
       "      <td>Organization/00394544000851</td>\n",
       "      <td>2021-11-08</td>\n",
       "      <td>1ª Dose</td>\n",
       "      <td>87</td>\n",
       "      <td>COVID-19 PFIZER - COMIRNATY</td>\n",
       "      <td>Novo PNI</td>\n",
       "    </tr>\n",
       "    <tr>\n",
       "      <th>15</th>\n",
       "      <td>ac00cf77-2f91-43a8-b095-8257b885c9d8-i0b0</td>\n",
       "      <td>eca9cda1ac745540e8cf371995d00c94a69d61e016034a...</td>\n",
       "      <td>12</td>\n",
       "      <td>2010-01-13</td>\n",
       "      <td>F</td>\n",
       "      <td>3</td>\n",
       "      <td>PARDA</td>\n",
       "      <td>120030.0</td>\n",
       "      <td>10.0</td>\n",
       "      <td>FEIJO</td>\n",
       "      <td>...</td>\n",
       "      <td>6.0</td>\n",
       "      <td>Povos e Comunidades Tradicionais</td>\n",
       "      <td>FP8073</td>\n",
       "      <td>PFIZER</td>\n",
       "      <td>Organization/28290</td>\n",
       "      <td>2022-05-27</td>\n",
       "      <td>1ª Dose</td>\n",
       "      <td>87</td>\n",
       "      <td>COVID-19 PFIZER - COMIRNATY</td>\n",
       "      <td>Novo PNI</td>\n",
       "    </tr>\n",
       "    <tr>\n",
       "      <th>23</th>\n",
       "      <td>ad131f46-dbe2-4eed-acfe-965518292730-i0b0</td>\n",
       "      <td>3caa13d53907fa19008fa839bc9d03769f7c9403f2e23f...</td>\n",
       "      <td>0</td>\n",
       "      <td>2022-08-08</td>\n",
       "      <td>F</td>\n",
       "      <td>1</td>\n",
       "      <td>BRANCA</td>\n",
       "      <td>120040.0</td>\n",
       "      <td>10.0</td>\n",
       "      <td>RIO BRANCO</td>\n",
       "      <td>...</td>\n",
       "      <td>2.0</td>\n",
       "      <td>Faixa Etária</td>\n",
       "      <td>GC9016</td>\n",
       "      <td>PFIZER - PEDIÁTRICA MENOR DE 5 ANOS</td>\n",
       "      <td>28290</td>\n",
       "      <td>2023-02-09</td>\n",
       "      <td>1ª Dose</td>\n",
       "      <td>102</td>\n",
       "      <td>COVID-19 PFIZER - COMIRNATY PEDIÁTRICA MENOR D...</td>\n",
       "      <td>Novo PNI</td>\n",
       "    </tr>\n",
       "    <tr>\n",
       "      <th>26</th>\n",
       "      <td>a2276e10-38b6-408a-babc-293688cba420-i0b0</td>\n",
       "      <td>c0d6235ffa241a888c2c6c7138b5521305ccd4bb9f8466...</td>\n",
       "      <td>16</td>\n",
       "      <td>2005-11-12</td>\n",
       "      <td>F</td>\n",
       "      <td>5</td>\n",
       "      <td>INDIGENA</td>\n",
       "      <td>120060.0</td>\n",
       "      <td>10.0</td>\n",
       "      <td>TARAUACA</td>\n",
       "      <td>...</td>\n",
       "      <td>7.0</td>\n",
       "      <td>Povos Indígenas</td>\n",
       "      <td>202010040</td>\n",
       "      <td>SINOVAC/BUTANTAN</td>\n",
       "      <td>152</td>\n",
       "      <td>2022-03-24</td>\n",
       "      <td>1ª Dose</td>\n",
       "      <td>86</td>\n",
       "      <td>COVID-19 SINOVAC/BUTANTAN - CORONAVAC</td>\n",
       "      <td>Novo PNI</td>\n",
       "    </tr>\n",
       "  </tbody>\n",
       "</table>\n",
       "<p>5 rows × 32 columns</p>\n",
       "</div>"
      ],
      "text/plain": [
       "                                  document_id  \\\n",
       "4   a6eaa2ad-b025-4fb2-8683-5aa237fc3d31-i0b0   \n",
       "10  429bc350-1f02-4c24-af25-d09216991fe6-i0b0   \n",
       "15  ac00cf77-2f91-43a8-b095-8257b885c9d8-i0b0   \n",
       "23  ad131f46-dbe2-4eed-acfe-965518292730-i0b0   \n",
       "26  a2276e10-38b6-408a-babc-293688cba420-i0b0   \n",
       "\n",
       "                                          paciente_id  paciente_idade  \\\n",
       "4   7143f174f727be45c60eef078a80cf794e25209bb6f307...               9   \n",
       "10  ce4295b7c41c9a8e96d0adf020e4dbd4a48d824aa2be7f...              14   \n",
       "15  eca9cda1ac745540e8cf371995d00c94a69d61e016034a...              12   \n",
       "23  3caa13d53907fa19008fa839bc9d03769f7c9403f2e23f...               0   \n",
       "26  c0d6235ffa241a888c2c6c7138b5521305ccd4bb9f8466...              16   \n",
       "\n",
       "   paciente_dataNascimento paciente_enumSexoBiologico  \\\n",
       "4               2013-03-22                          M   \n",
       "10              2007-02-05                          M   \n",
       "15              2010-01-13                          F   \n",
       "23              2022-08-08                          F   \n",
       "26              2005-11-12                          F   \n",
       "\n",
       "    paciente_racaCor_codigo paciente_racaCor_valor  \\\n",
       "4                         3                  PARDA   \n",
       "10                        4                AMARELA   \n",
       "15                        3                  PARDA   \n",
       "23                        1                 BRANCA   \n",
       "26                        5               INDIGENA   \n",
       "\n",
       "   paciente_endereco_coIbgeMunicipio paciente_endereco_coPais  \\\n",
       "4                           120040.0                     10.0   \n",
       "10                          120040.0                     10.0   \n",
       "15                          120030.0                     10.0   \n",
       "23                          120040.0                     10.0   \n",
       "26                          120060.0                     10.0   \n",
       "\n",
       "   paciente_endereco_nmMunicipio  ... vacina_categoria_codigo  \\\n",
       "4                     RIO BRANCO  ...                     NaN   \n",
       "10                    RIO BRANCO  ...                     2.0   \n",
       "15                         FEIJO  ...                     6.0   \n",
       "23                    RIO BRANCO  ...                     2.0   \n",
       "26                      TARAUACA  ...                     7.0   \n",
       "\n",
       "               vacina_categoria_nome vacina_lote  \\\n",
       "4                                NaN      FN5988   \n",
       "10                      Faixa Etária      FF8840   \n",
       "15  Povos e Comunidades Tradicionais      FP8073   \n",
       "23                      Faixa Etária      GC9016   \n",
       "26                   Povos Indígenas   202010040   \n",
       "\n",
       "                 vacina_fabricante_nome  vacina_fabricante_referencia  \\\n",
       "4                   PFIZER - PEDI?TRICA                         28290   \n",
       "10                               PFIZER   Organization/00394544000851   \n",
       "15                               PFIZER            Organization/28290   \n",
       "23  PFIZER - PEDIÁTRICA MENOR DE 5 ANOS                         28290   \n",
       "26                     SINOVAC/BUTANTAN                           152   \n",
       "\n",
       "   vacina_dataAplicacao vacina_descricao_dose  vacina_codigo  \\\n",
       "4            2022-03-29               1ª Dose             99   \n",
       "10           2021-11-08               1ª Dose             87   \n",
       "15           2022-05-27               1ª Dose             87   \n",
       "23           2023-02-09               1ª Dose            102   \n",
       "26           2022-03-24               1ª Dose             86   \n",
       "\n",
       "                                          vacina_nome sistema_origem  \n",
       "4              COVID-19 PEDIÁTRICA - PFIZER COMIRNATY       Novo PNI  \n",
       "10                        COVID-19 PFIZER - COMIRNATY       Novo PNI  \n",
       "15                        COVID-19 PFIZER - COMIRNATY       Novo PNI  \n",
       "23  COVID-19 PFIZER - COMIRNATY PEDIÁTRICA MENOR D...       Novo PNI  \n",
       "26              COVID-19 SINOVAC/BUTANTAN - CORONAVAC       Novo PNI  \n",
       "\n",
       "[5 rows x 32 columns]"
      ]
     },
     "execution_count": 93,
     "metadata": {},
     "output_type": "execute_result"
    }
   ],
   "source": [
    "# 1)\n",
    "df_menor_de_18_anos.head()\n"
   ]
  },
  {
   "cell_type": "code",
   "execution_count": 94,
   "metadata": {
    "id": "sLyevPRBC8-8"
   },
   "outputs": [
    {
     "name": "stdout",
     "output_type": "stream",
     "text": [
      "['document_id', 'paciente_id', 'paciente_idade', 'paciente_dataNascimento', 'paciente_enumSexoBiologico', 'paciente_racaCor_codigo', 'paciente_racaCor_valor', 'paciente_endereco_coIbgeMunicipio', 'paciente_endereco_coPais', 'paciente_endereco_nmMunicipio', 'paciente_endereco_nmPais', 'paciente_endereco_uf', 'paciente_endereco_cep', 'paciente_nacionalidade_enumNacionalidade', 'estabelecimento_valor', 'estabelecimento_razaoSocial', 'estabelecimento_noFantasia', 'estabelecimento_municipio_codigo', 'estabelecimento_municipio_nome', 'estabelecimento_uf', 'vacina_grupoAtendimento_codigo', 'vacina_grupoAtendimento_nome', 'vacina_categoria_codigo', 'vacina_categoria_nome', 'vacina_lote', 'vacina_fabricante_nome', 'vacina_fabricante_referencia', 'vacina_dataAplicacao', 'vacina_descricao_dose', 'vacina_codigo', 'vacina_nome', 'sistema_origem']\n"
     ]
    }
   ],
   "source": [
    "# 2)\n",
    "colunas = list(df_menor_de_18_anos.columns)\n",
    "\n",
    "print(colunas)\n"
   ]
  },
  {
   "cell_type": "code",
   "execution_count": 95,
   "metadata": {
    "id": "lZAW-Dp8C8-8"
   },
   "outputs": [
    {
     "data": {
      "text/plain": [
       "14"
      ]
     },
     "execution_count": 95,
     "metadata": {},
     "output_type": "execute_result"
    }
   ],
   "source": [
    "# 3)\n",
    "contagem_categoria_vacina = len(df_menor_de_18_anos['vacina_categoria_nome'].unique())\n",
    "\n",
    "contagem_categoria_vacina\n"
   ]
  },
  {
   "cell_type": "code",
   "execution_count": 96,
   "metadata": {
    "id": "xxYsxrxAC8-8"
   },
   "outputs": [
    {
     "name": "stdout",
     "output_type": "stream",
     "text": [
      "['estabelecimento_valor', 'estabelecimento_razaoSocial', 'estabelecimento_noFantasia', 'estabelecimento_municipio_codigo', 'estabelecimento_municipio_nome', 'estabelecimento_uf']\n",
      "        estabelecimento_valor  \\\n",
      "4                     6917291   \n",
      "10                    7014147   \n",
      "15                    7014147   \n",
      "23                    6917291   \n",
      "26                    6612385   \n",
      "...                       ...   \n",
      "384102                5354072   \n",
      "384103                6917291   \n",
      "384104                6955525   \n",
      "384108                6917291   \n",
      "384111                2001039   \n",
      "\n",
      "                              estabelecimento_razaoSocial  \\\n",
      "4                      PREFEITURA MUNICIPAL DE RIO BRANCO   \n",
      "10                          PREFEITURA MUNICIPAL DE FEIJO   \n",
      "15                          PREFEITURA MUNICIPAL DE FEIJO   \n",
      "23                     PREFEITURA MUNICIPAL DE RIO BRANCO   \n",
      "26                                  POLO BASE DE TARAUACA   \n",
      "...                                                   ...   \n",
      "384102                     PREFEITURA MUNICIPAL DE JORDAO   \n",
      "384103                 PREFEITURA MUNICIPAL DE RIO BRANCO   \n",
      "384104  DISTRITO SANITARIO ESPECIAL INDIGENA ALTO RIO ...   \n",
      "384108                 PREFEITURA MUNICIPAL DE RIO BRANCO   \n",
      "384111                   PREFEITURA MUNICIPAL DE CAPIXABA   \n",
      "\n",
      "                               estabelecimento_noFantasia  \\\n",
      "4       DEPARTAMENTO DE VIGILANCIA EPIDEMIOLOGICA E AM...   \n",
      "10                       U S F ANTONIO DOMINGOS RODRIGUES   \n",
      "15                       U S F ANTONIO DOMINGOS RODRIGUES   \n",
      "23      DEPARTAMENTO DE VIGILANCIA EPIDEMIOLOGICA E AM...   \n",
      "26      UNIDADE ASSISTENCIAL A SAUDE INDIGENA DE TARAU...   \n",
      "...                                                   ...   \n",
      "384102  UNIDADE DE SAUDE DA FAMILIA ANTONIO RODRIGUES ...   \n",
      "384103  DEPARTAMENTO DE VIGILANCIA EPIDEMIOLOGICA E AM...   \n",
      "384104                           POLO BASE DE MANCIO LIMA   \n",
      "384108  DEPARTAMENTO DE VIGILANCIA EPIDEMIOLOGICA E AM...   \n",
      "384111  UNIDADE DE SAUDE DA FAMILIA DR LUIZ FERNANDO M...   \n",
      "\n",
      "        estabelecimento_municipio_codigo estabelecimento_municipio_nome  \\\n",
      "4                                 120040                     RIO BRANCO   \n",
      "10                                120030                          FEIJO   \n",
      "15                                120030                          FEIJO   \n",
      "23                                120040                     RIO BRANCO   \n",
      "26                                120060                       TARAUACA   \n",
      "...                                  ...                            ...   \n",
      "384102                            120032                         JORDAO   \n",
      "384103                            120040                     RIO BRANCO   \n",
      "384104                            120033                    MANCIO LIMA   \n",
      "384108                            120040                     RIO BRANCO   \n",
      "384111                            120017                       CAPIXABA   \n",
      "\n",
      "       estabelecimento_uf  \n",
      "4                      AC  \n",
      "10                     AC  \n",
      "15                     AC  \n",
      "23                     AC  \n",
      "26                     AC  \n",
      "...                   ...  \n",
      "384102                 AC  \n",
      "384103                 AC  \n",
      "384104                 AC  \n",
      "384108                 AC  \n",
      "384111                 AC  \n",
      "\n",
      "[75450 rows x 6 columns]\n"
     ]
    }
   ],
   "source": [
    "# 4)\n",
    "dados_estabelecimento = [coluna for coluna in colunas if coluna.startswith('estabelecimento_')]\n",
    "\n",
    "print(dados_estabelecimento)\n",
    "\n",
    "df_estabelecimento = df_menor_de_18_anos.loc[:, dados_estabelecimento]\n",
    "\n",
    "print(df_estabelecimento)\n"
   ]
  },
  {
   "cell_type": "code",
   "execution_count": 103,
   "metadata": {
    "id": "vaX2x_0rC8-8"
   },
   "outputs": [
    {
     "name": "stdout",
     "output_type": "stream",
     "text": [
      "        estabelecimento_valor                estabelecimento_razaoSocial  \\\n",
      "4                     6917291         PREFEITURA MUNICIPAL DE RIO BRANCO   \n",
      "10                    7014147              PREFEITURA MUNICIPAL DE FEIJO   \n",
      "26                    6612385                      POLO BASE DE TARAUACA   \n",
      "29                    6159087    PREFEITURA MUNICIPAL DE CRUZEIRO DO SUL   \n",
      "50                    2000504         PREFEITURA MUNICIPAL DE PORTO ACRE   \n",
      "...                       ...                                        ...   \n",
      "133972                 197599         CENTRAL MUNICIPAL DE REDE DE FRIOS   \n",
      "186926                5493455  PREFEITURA MUNICIPAL DE PLACIDO DE CASTRO   \n",
      "222657                 755605                         USF BARRO VERMELHO   \n",
      "226384                 783722              SECRETARIA MUNICIPAL DE SAUDE   \n",
      "230800                2001837         PREFEITURA MUNICIPAL DE RIO BRANCO   \n",
      "\n",
      "                               estabelecimento_noFantasia  \\\n",
      "4       DEPARTAMENTO DE VIGILANCIA EPIDEMIOLOGICA E AM...   \n",
      "10                       U S F ANTONIO DOMINGOS RODRIGUES   \n",
      "26      UNIDADE ASSISTENCIAL A SAUDE INDIGENA DE TARAU...   \n",
      "29       SECRETARIA MUNICIPAL DE SAUDE DE CRUZEIRO DO SUL   \n",
      "50      UNIDADE DE SAUDE DA FAMILIA ILDA BARBOSA DE SOUZA   \n",
      "...                                                   ...   \n",
      "133972                 CENTRAL MUNICIPAL DE REDE DE FRIOS   \n",
      "186926                         U S F MARIO GOMES DA SILVA   \n",
      "222657                                 USF BARRO VERMELHO   \n",
      "226384                  UNIDADE BASICA JOSE SOUZA CORREIA   \n",
      "230800                                   USF SANTA INES I   \n",
      "\n",
      "        estabelecimento_municipio_codigo estabelecimento_municipio_nome  \\\n",
      "4                                 120040                     RIO BRANCO   \n",
      "10                                120030                          FEIJO   \n",
      "26                                120060                       TARAUACA   \n",
      "29                                120020                CRUZEIRO DO SUL   \n",
      "50                                120080                     PORTO ACRE   \n",
      "...                                  ...                            ...   \n",
      "133972                            120020                CRUZEIRO DO SUL   \n",
      "186926                            120038              PLACIDO DE CASTRO   \n",
      "222657                            120040                     RIO BRANCO   \n",
      "226384                            120042                RODRIGUES ALVES   \n",
      "230800                            120040                     RIO BRANCO   \n",
      "\n",
      "       estabelecimento_uf  \n",
      "4                      AC  \n",
      "10                     AC  \n",
      "26                     AC  \n",
      "29                     AC  \n",
      "50                     AC  \n",
      "...                   ...  \n",
      "133972                 AC  \n",
      "186926                 AC  \n",
      "222657                 AC  \n",
      "226384                 AC  \n",
      "230800                 AC  \n",
      "\n",
      "[193 rows x 6 columns]\n"
     ]
    }
   ],
   "source": [
    "# 5)\n",
    "df_estabelecimento = df_estabelecimento.drop_duplicates()\n",
    "\n",
    "print(df_estabelecimento)"
   ]
  },
  {
   "cell_type": "code",
   "execution_count": 102,
   "metadata": {},
   "outputs": [
    {
     "data": {
      "text/html": [
       "<div>\n",
       "<style scoped>\n",
       "    .dataframe tbody tr th:only-of-type {\n",
       "        vertical-align: middle;\n",
       "    }\n",
       "\n",
       "    .dataframe tbody tr th {\n",
       "        vertical-align: top;\n",
       "    }\n",
       "\n",
       "    .dataframe thead th {\n",
       "        text-align: right;\n",
       "    }\n",
       "</style>\n",
       "<table border=\"1\" class=\"dataframe\">\n",
       "  <thead>\n",
       "    <tr style=\"text-align: right;\">\n",
       "      <th></th>\n",
       "      <th>estabelecimento_noFantasia</th>\n",
       "      <th>sum_vacina</th>\n",
       "    </tr>\n",
       "  </thead>\n",
       "  <tbody>\n",
       "    <tr>\n",
       "      <th>0</th>\n",
       "      <td>CENTRAL MUNICIPAL DE REDE DE FRIOS</td>\n",
       "      <td>1</td>\n",
       "    </tr>\n",
       "    <tr>\n",
       "      <th>1</th>\n",
       "      <td>CENTRO DE ATENDIMENTO PARA ENFRENTAMENTO DA CO...</td>\n",
       "      <td>33</td>\n",
       "    </tr>\n",
       "    <tr>\n",
       "      <th>2</th>\n",
       "      <td>CENTRO DE REFERENCIA PARA IMUNOBIOLOGICOS ESPE...</td>\n",
       "      <td>160</td>\n",
       "    </tr>\n",
       "    <tr>\n",
       "      <th>3</th>\n",
       "      <td>CENTRO DE SAUDE DIAMANTINO MACEDO</td>\n",
       "      <td>1121</td>\n",
       "    </tr>\n",
       "    <tr>\n",
       "      <th>4</th>\n",
       "      <td>CENTRO DE SAUDE IDELFONSO CORDEIRO DE ANDRADE</td>\n",
       "      <td>90</td>\n",
       "    </tr>\n",
       "  </tbody>\n",
       "</table>\n",
       "</div>"
      ],
      "text/plain": [
       "                          estabelecimento_noFantasia  sum_vacina\n",
       "0                 CENTRAL MUNICIPAL DE REDE DE FRIOS           1\n",
       "1  CENTRO DE ATENDIMENTO PARA ENFRENTAMENTO DA CO...          33\n",
       "2  CENTRO DE REFERENCIA PARA IMUNOBIOLOGICOS ESPE...         160\n",
       "3                  CENTRO DE SAUDE DIAMANTINO MACEDO        1121\n",
       "4      CENTRO DE SAUDE IDELFONSO CORDEIRO DE ANDRADE          90"
      ]
     },
     "execution_count": 102,
     "metadata": {},
     "output_type": "execute_result"
    }
   ],
   "source": [
    "vacinas_por_estabelecimento = df_menor_de_18_anos.groupby('estabelecimento_noFantasia').size().reset_index(name='sum_vacina')\n",
    "\n",
    "vacinas_por_estabelecimento.head()"
   ]
  },
  {
   "cell_type": "code",
   "execution_count": 105,
   "metadata": {},
   "outputs": [
    {
     "data": {
      "text/html": [
       "<div>\n",
       "<style scoped>\n",
       "    .dataframe tbody tr th:only-of-type {\n",
       "        vertical-align: middle;\n",
       "    }\n",
       "\n",
       "    .dataframe tbody tr th {\n",
       "        vertical-align: top;\n",
       "    }\n",
       "\n",
       "    .dataframe thead th {\n",
       "        text-align: right;\n",
       "    }\n",
       "</style>\n",
       "<table border=\"1\" class=\"dataframe\">\n",
       "  <thead>\n",
       "    <tr style=\"text-align: right;\">\n",
       "      <th></th>\n",
       "      <th>estabelecimento_valor</th>\n",
       "      <th>estabelecimento_razaoSocial</th>\n",
       "      <th>estabelecimento_noFantasia</th>\n",
       "      <th>estabelecimento_municipio_codigo</th>\n",
       "      <th>estabelecimento_municipio_nome</th>\n",
       "      <th>estabelecimento_uf</th>\n",
       "      <th>sum_vacina</th>\n",
       "    </tr>\n",
       "  </thead>\n",
       "  <tbody>\n",
       "    <tr>\n",
       "      <th>0</th>\n",
       "      <td>6917291</td>\n",
       "      <td>PREFEITURA MUNICIPAL DE RIO BRANCO</td>\n",
       "      <td>DEPARTAMENTO DE VIGILANCIA EPIDEMIOLOGICA E AM...</td>\n",
       "      <td>120040</td>\n",
       "      <td>RIO BRANCO</td>\n",
       "      <td>AC</td>\n",
       "      <td>25591</td>\n",
       "    </tr>\n",
       "    <tr>\n",
       "      <th>1</th>\n",
       "      <td>7014147</td>\n",
       "      <td>PREFEITURA MUNICIPAL DE FEIJO</td>\n",
       "      <td>U S F ANTONIO DOMINGOS RODRIGUES</td>\n",
       "      <td>120030</td>\n",
       "      <td>FEIJO</td>\n",
       "      <td>AC</td>\n",
       "      <td>397</td>\n",
       "    </tr>\n",
       "    <tr>\n",
       "      <th>2</th>\n",
       "      <td>6612385</td>\n",
       "      <td>POLO BASE DE TARAUACA</td>\n",
       "      <td>UNIDADE ASSISTENCIAL A SAUDE INDIGENA DE TARAU...</td>\n",
       "      <td>120060</td>\n",
       "      <td>TARAUACA</td>\n",
       "      <td>AC</td>\n",
       "      <td>781</td>\n",
       "    </tr>\n",
       "    <tr>\n",
       "      <th>3</th>\n",
       "      <td>6159087</td>\n",
       "      <td>PREFEITURA MUNICIPAL DE CRUZEIRO DO SUL</td>\n",
       "      <td>SECRETARIA MUNICIPAL DE SAUDE DE CRUZEIRO DO SUL</td>\n",
       "      <td>120020</td>\n",
       "      <td>CRUZEIRO DO SUL</td>\n",
       "      <td>AC</td>\n",
       "      <td>1819</td>\n",
       "    </tr>\n",
       "    <tr>\n",
       "      <th>4</th>\n",
       "      <td>2000504</td>\n",
       "      <td>PREFEITURA MUNICIPAL DE PORTO ACRE</td>\n",
       "      <td>UNIDADE DE SAUDE DA FAMILIA ILDA BARBOSA DE SOUZA</td>\n",
       "      <td>120080</td>\n",
       "      <td>PORTO ACRE</td>\n",
       "      <td>AC</td>\n",
       "      <td>220</td>\n",
       "    </tr>\n",
       "  </tbody>\n",
       "</table>\n",
       "</div>"
      ],
      "text/plain": [
       "   estabelecimento_valor              estabelecimento_razaoSocial  \\\n",
       "0                6917291       PREFEITURA MUNICIPAL DE RIO BRANCO   \n",
       "1                7014147            PREFEITURA MUNICIPAL DE FEIJO   \n",
       "2                6612385                    POLO BASE DE TARAUACA   \n",
       "3                6159087  PREFEITURA MUNICIPAL DE CRUZEIRO DO SUL   \n",
       "4                2000504       PREFEITURA MUNICIPAL DE PORTO ACRE   \n",
       "\n",
       "                          estabelecimento_noFantasia  \\\n",
       "0  DEPARTAMENTO DE VIGILANCIA EPIDEMIOLOGICA E AM...   \n",
       "1                   U S F ANTONIO DOMINGOS RODRIGUES   \n",
       "2  UNIDADE ASSISTENCIAL A SAUDE INDIGENA DE TARAU...   \n",
       "3   SECRETARIA MUNICIPAL DE SAUDE DE CRUZEIRO DO SUL   \n",
       "4  UNIDADE DE SAUDE DA FAMILIA ILDA BARBOSA DE SOUZA   \n",
       "\n",
       "   estabelecimento_municipio_codigo estabelecimento_municipio_nome  \\\n",
       "0                            120040                     RIO BRANCO   \n",
       "1                            120030                          FEIJO   \n",
       "2                            120060                       TARAUACA   \n",
       "3                            120020                CRUZEIRO DO SUL   \n",
       "4                            120080                     PORTO ACRE   \n",
       "\n",
       "  estabelecimento_uf  sum_vacina  \n",
       "0                 AC       25591  \n",
       "1                 AC         397  \n",
       "2                 AC         781  \n",
       "3                 AC        1819  \n",
       "4                 AC         220  "
      ]
     },
     "execution_count": 105,
     "metadata": {},
     "output_type": "execute_result"
    }
   ],
   "source": [
    "df_estabelecimento = pd.merge(df_estabelecimento, vacinas_por_estabelecimento, how='left', left_on='estabelecimento_noFantasia', right_on='estabelecimento_noFantasia')\n",
    "\n",
    "df_estabelecimento.head()"
   ]
  },
  {
   "cell_type": "code",
   "execution_count": null,
   "metadata": {},
   "outputs": [],
   "source": []
  }
 ],
 "metadata": {
  "colab": {
   "provenance": []
  },
  "kernelspec": {
   "display_name": "Python 3 (ipykernel)",
   "language": "python",
   "name": "python3"
  },
  "language_info": {
   "codemirror_mode": {
    "name": "ipython",
    "version": 3
   },
   "file_extension": ".py",
   "mimetype": "text/x-python",
   "name": "python",
   "nbconvert_exporter": "python",
   "pygments_lexer": "ipython3",
   "version": "3.9.12"
  },
  "toc": {
   "base_numbering": 1,
   "nav_menu": {},
   "number_sections": false,
   "sideBar": true,
   "skip_h1_title": true,
   "title_cell": "Índice",
   "title_sidebar": "Conteúdo",
   "toc_cell": false,
   "toc_position": {},
   "toc_section_display": true,
   "toc_window_display": false
  },
  "varInspector": {
   "cols": {
    "lenName": 16,
    "lenType": 16,
    "lenVar": 40
   },
   "kernels_config": {
    "python": {
     "delete_cmd_postfix": "",
     "delete_cmd_prefix": "del ",
     "library": "var_list.py",
     "varRefreshCmd": "print(var_dic_list())"
    },
    "r": {
     "delete_cmd_postfix": ") ",
     "delete_cmd_prefix": "rm(",
     "library": "var_list.r",
     "varRefreshCmd": "cat(var_dic_list()) "
    }
   },
   "types_to_exclude": [
    "module",
    "function",
    "builtin_function_or_method",
    "instance",
    "_Feature"
   ],
   "window_display": false
  }
 },
 "nbformat": 4,
 "nbformat_minor": 1
}
